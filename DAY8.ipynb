{
  "nbformat": 4,
  "nbformat_minor": 0,
  "metadata": {
    "colab": {
      "provenance": []
    },
    "kernelspec": {
      "name": "python3",
      "display_name": "Python 3"
    },
    "language_info": {
      "name": "python"
    }
  },
  "cells": [
    {
      "cell_type": "code",
      "execution_count": null,
      "metadata": {
        "id": "4oUSIAvhdidi"
      },
      "outputs": [],
      "source": []
    },
    {
      "cell_type": "code",
      "source": [],
      "metadata": {
        "id": "YYObKlQEw2Bn"
      },
      "execution_count": null,
      "outputs": []
    },
    {
      "cell_type": "code",
      "source": [
        "from tensorflow.keras.models import load_model\n",
        "from tensorflow.keras.preprocessing import image\n",
        "import numpy as np"
      ],
      "metadata": {
        "id": "Sw1FfyfagLGC"
      },
      "execution_count": null,
      "outputs": []
    },
    {
      "cell_type": "code",
      "source": [
        "#load the saved model\n",
        "model=load_model(\"/content/drive/MyDrive/model.bt/model.h5\")"
      ],
      "metadata": {
        "id": "0KN2gHW5kZLe"
      },
      "execution_count": null,
      "outputs": []
    },
    {
      "cell_type": "markdown",
      "source": [],
      "metadata": {
        "id": "OJHuHj2F6Tjv"
      }
    },
    {
      "cell_type": "code",
      "source": [
        "#load and preprocess the test image\n",
        "test_image_path='/content/drive/MyDrive/Brain_Tumor_Detection/Train/no/No13.jpg'\n",
        "img=image.load_img(test_image_path, target_size=(224, 224))\n",
        "img_array=image.img_to_array(img)\n",
        "img_array=np.expand_dims(img_array,axis=0)"
      ],
      "metadata": {
        "id": "qvN5ENMVkkbH"
      },
      "execution_count": null,
      "outputs": []
    },
    {
      "cell_type": "code",
      "source": [
        "#add batch dimension\n",
        "img_array/=255. #normalize the pixel values\n",
        "#make predictions\n",
        "prediction=model.predict(img_array)\n",
        "#print the prediction\n",
        "print(prediction)\n"
      ],
      "metadata": {
        "id": "Q5wRf_D0nUYe",
        "colab": {
          "base_uri": "https://localhost:8080/"
        },
        "outputId": "770a988e-f37d-4717-fcc5-1a2aa09fda74"
      },
      "execution_count": null,
      "outputs": [
        {
          "output_type": "stream",
          "name": "stdout",
          "text": [
            "1/1 [==============================] - 0s 214ms/step\n",
            "[[1.7678308e-12]]\n"
          ]
        }
      ]
    },
    {
      "cell_type": "code",
      "source": [
        "if prediction < 0.5:\n",
        "  print(\"prediction: no tumer(probability:\",prediction[0][0])\n",
        "else:\n",
        "  print(\"prediction: tumer present (probability:\",prediction[0][0])"
      ],
      "metadata": {
        "id": "eo3D64V8pMLx",
        "colab": {
          "base_uri": "https://localhost:8080/"
        },
        "outputId": "74c288d9-72fa-4418-9bf1-2f76c327555e"
      },
      "execution_count": null,
      "outputs": [
        {
          "output_type": "stream",
          "name": "stdout",
          "text": [
            "prediction: no tumer(probability: 1.7678308e-12\n"
          ]
        }
      ]
    }
  ]
}