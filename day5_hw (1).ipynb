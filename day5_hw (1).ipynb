{
  "nbformat": 4,
  "nbformat_minor": 0,
  "metadata": {
    "colab": {
      "provenance": []
    },
    "kernelspec": {
      "name": "python3",
      "display_name": "Python 3"
    },
    "language_info": {
      "name": "python"
    }
  },
  "cells": [
    {
      "cell_type": "code",
      "execution_count": null,
      "metadata": {
        "id": "jS52v6UvqWUf"
      },
      "outputs": [],
      "source": [
        "from bs4 import BeautifulSoup\n"
      ]
    },
    {
      "cell_type": "code",
      "source": [
        "import requests"
      ],
      "metadata": {
        "id": "wnB-bY-Lqgk9"
      },
      "execution_count": null,
      "outputs": []
    },
    {
      "cell_type": "code",
      "source": [
        "amazon=\"https://en.m.wikipedia.org/wiki/List_of_tallest_buildings_in_India\"\n",
        "amazon"
      ],
      "metadata": {
        "colab": {
          "base_uri": "https://localhost:8080/",
          "height": 35
        },
        "id": "xYQZXiP5qrUk",
        "outputId": "42ff5f4b-f35d-4fca-9950-a5ece6be1798"
      },
      "execution_count": null,
      "outputs": [
        {
          "output_type": "execute_result",
          "data": {
            "text/plain": [
              "'https://en.m.wikipedia.org/wiki/List_of_tallest_buildings_in_India'"
            ],
            "application/vnd.google.colaboratory.intrinsic+json": {
              "type": "string"
            }
          },
          "metadata": {},
          "execution_count": 34
        }
      ]
    },
    {
      "cell_type": "code",
      "source": [
        "page=requests.get(amazon)\n",
        "page"
      ],
      "metadata": {
        "colab": {
          "base_uri": "https://localhost:8080/"
        },
        "id": "mG2rJ9tKrIiI",
        "outputId": "5d68992b-5ac6-4410-d086-e6d86ab4c298"
      },
      "execution_count": null,
      "outputs": [
        {
          "output_type": "execute_result",
          "data": {
            "text/plain": [
              "<Response [200]>"
            ]
          },
          "metadata": {},
          "execution_count": 35
        }
      ]
    },
    {
      "cell_type": "code",
      "source": [
        "import pandas as pd"
      ],
      "metadata": {
        "id": "An_NDCvarTn1"
      },
      "execution_count": null,
      "outputs": []
    },
    {
      "cell_type": "code",
      "source": [
        "code=BeautifulSoup(page.text,'html')\n",
        "t=code.find('table')\n",
        "h=t.find_all('th')\n",
        "headings=[i.text for i in h]\n",
        "print(headings)\n"
      ],
      "metadata": {
        "colab": {
          "base_uri": "https://localhost:8080/"
        },
        "id": "yMYm_B9wrW6C",
        "outputId": "4c4ad576-f74c-45d3-c977-daf7ca12b2ac"
      },
      "execution_count": null,
      "outputs": [
        {
          "output_type": "stream",
          "name": "stdout",
          "text": [
            "['Rank\\n', 'Name\\n', 'Image\\n', 'City\\n', 'Height\\n', 'Floors\\n', 'Year\\n', 'Building type\\n', 'Reference(s)\\n']\n"
          ]
        }
      ]
    },
    {
      "cell_type": "code",
      "source": [
        "mydf=pd.DataFrame(columns=headings)\n",
        "print(mydf)"
      ],
      "metadata": {
        "colab": {
          "base_uri": "https://localhost:8080/"
        },
        "id": "j4Guk8sNuKip",
        "outputId": "b15ff404-cf8a-4c4e-d41a-e55ecce340e1"
      },
      "execution_count": null,
      "outputs": [
        {
          "output_type": "stream",
          "name": "stdout",
          "text": [
            "Empty DataFrame\n",
            "Columns: [Rank\n",
            ", Name\n",
            ", Image\n",
            ", City\n",
            ", Height\n",
            ", Floors\n",
            ", Year\n",
            ", Building type\n",
            ", Reference(s)\n",
            "]\n",
            "Index: []\n"
          ]
        }
      ]
    },
    {
      "cell_type": "code",
      "source": [
        "rows=t.find_all('td')\n",
        "l=[i.text for i in rows]\n",
        "print(l)"
      ],
      "metadata": {
        "colab": {
          "base_uri": "https://localhost:8080/"
        },
        "id": "gvj1T0mzuaCr",
        "outputId": "3f79f85e-10f6-4de5-c493-662b9c9ea4d2"
      },
      "execution_count": null,
      "outputs": [
        {
          "output_type": "stream",
          "name": "stdout",
          "text": [
            "['1\\n', 'Palais Royale\\n', '\\xa0\\n', 'Mumbai\\n', '320 metres (1,050\\xa0ft)\\n', '88\\n', '2018\\n', 'Residential\\n', '[22]', '2\\n', 'Lokhandwala Minerva\\n', '\\xa0\\n', 'Mumbai\\n', '301 metres (988\\xa0ft)\\n', '78\\n', '2023\\n', 'Residential\\n', '[23][24]', '3\\n', 'Piramal Aranya Arav\\n', '\\n', 'Mumbai\\n', '282.2 metres (926\\xa0ft)\\n', '83\\n', '2022\\n', 'Residential\\n', '[25]', '4\\n', 'World One\\n', '\\xa0\\n', 'Mumbai\\n', '280.2 metres (919\\xa0ft)\\n', '76\\n', '2020\\n', 'Residential\\n', '[4][26]', '5\\n', 'World View\\n', '\\xa0\\n', 'Mumbai\\n', '277.6 metres (911\\xa0ft)\\n', '73\\n', '2020\\n', 'Residential\\n', '[27][28]', '6\\n', 'Lodha Trump Tower\\n', '\\xa0\\n', 'Mumbai\\n', '268 metres (879\\xa0ft)\\n', '76\\n', '2020\\n', 'Residential\\n', '[29][30][31]', 'Lodha Marquise\\n', '\\xa0\\n', 'Lodha Allura\\n', '\\xa0\\n', 'Lodha Parkside\\n', '\\xa0\\n', 'Lodha Kiara\\n', '\\xa0\\n', '11\\n', 'Omkar 1973 Tower A\\n', '\\xa0\\n', 'Mumbai\\n', '267 metres (876\\xa0ft)\\n', '73\\n', '2021\\n', 'Residential\\n', '[32][33]', 'Omkar 1973 Tower B\\n', '\\xa0\\n', '13\\n', 'Nathani Heights\\n', '\\xa0\\n', 'Mumbai\\n', '262 metres (860\\xa0ft)\\n', '72\\n', '2020\\n', 'Residential\\n', '[34][35]', '14\\n', 'Three Sixty West Tower B\\n', '\\xa0\\n', 'Mumbai\\n', '260 metres (853\\xa0ft)\\n', '66\\n', '2021\\n', 'Commercial\\n', '[36][37]', '15\\n', 'The 42\\n', '\\xa0\\n', 'Kolkata\\n', '260 metres (850\\xa0ft)\\n', '65\\n', '2018\\n', 'Residential\\n', '[38][39][40]', '16\\n', 'One Avighna Park\\n', '\\xa0\\n', 'Mumbai\\n', '260 metres (853\\xa0ft)\\n', '64\\n', '2017\\n', 'Residential\\n', '[41][42][43]', '17\\n', 'Rustomjee Crown Tower A\\n', '\\n', 'Mumbai\\n', '259 metres (850\\xa0ft)\\n', '69\\n', '2023\\n', 'Residential\\n', '[44][45][46]', 'Rustomjee Crown Tower B\\n', '\\n', '19\\n', 'The Imperial I\\n', '\\xa0\\n', 'Mumbai\\n', '256 metres (840\\xa0ft)\\n', '60\\n', '2010\\n', 'Residential\\n', '[47][48]', 'The Imperial II\\n', '\\xa0\\n', '21\\n', 'Three Sixty West Tower A\\n', '\\xa0\\n', 'Mumbai\\n', '255.6 metres (839\\xa0ft)\\n', '52\\n', '2020\\n', 'Commercial\\n', '[49][50]', '22\\n', 'Four Seasons Private Residences\\n', '\\xa0\\n', 'Mumbai\\n', '250 metres (820\\xa0ft)\\n', '55\\n', '2022\\n', 'Residential\\n', '[51][52][53]', '23\\n', 'Ahuja Towers\\n', '\\xa0\\n', 'Mumbai\\n', '250 metres (820\\xa0ft)\\n', '55\\n', '2019\\n', 'Residential\\n', '[54][55]', '24\\n', 'Crescent Bay Tower 6\\n', '\\n', 'Mumbai\\n', '239.7 metres (786\\xa0ft)\\n', '62\\n', '2019\\n', 'Residential\\n', '[56][57]', '25\\n', 'Auris Serenity Tower 1\\n', '\\xa0\\n', 'Mumbai\\n', '235 metres (771\\xa0ft)\\n', '69\\n', '2018\\n', 'Residential\\n', '[58][59][60]', 'Auris Serenity Tower 2\\n', '\\xa0\\n', '2019\\n', 'Auris Serenity Tower 3\\n', '\\xa0\\n', '2021\\n', '28\\n', 'Salsette 27 Tower A\\n', '\\n', 'Mumbai\\n', '225.2 metres (739\\xa0ft)\\n', '64\\n', '2023\\n', 'Residential\\n', '[61][62]', 'Salsette 27 Tower B\\n', '\\n', '30\\n', 'Indiabulls Sky Forest Tower 1\\n', '\\n', 'Mumbai\\n', '225 metres (738\\xa0ft)\\n', '62\\n', '2022\\n', 'Residential\\n', '[63][64]', 'Indiabulls Sky Forest Tower 2\\n', '\\n', '32\\n', 'Two ICC\\n', '\\xa0\\n', 'Mumbai\\n', '223.2 metres (732\\xa0ft)\\n', '68\\n', '2018\\n', 'Residential\\n', '[65][66][67]', '33\\n', 'Crescent Bay Tower 5\\n', '\\n', 'Mumbai\\n', '222.5 metres (730\\xa0ft)\\n', '63\\n', '2019\\n', 'Residential\\n', '[68][57]', '34\\n', 'World Crest\\n', '\\xa0\\n', 'Mumbai\\n', '222.5 metres (730\\xa0ft)\\n', '57\\n', '2017\\n', 'Residential\\n', '[69][70]', '35\\n', 'Lodha Bellissimo Tower 1\\n', '\\xa0\\n', 'Mumbai\\n', '222 metres (728\\xa0ft)\\n', '53\\n', '2011\\n', 'Residential\\n', '[71][72][73]', 'Lodha Bellissimo Tower 2\\n', '\\xa0\\n', '37\\n', 'Indiabulls Sky Blu\\n', '\\xa0\\n', 'Mumbai\\n', '220 metres (722\\xa0ft)\\n', '56\\n', '2019\\n', 'Residential\\n', '[74][75]', '38\\n', 'Oberoi Sky City Tower A\\n', '\\xa0\\n', 'Mumbai\\n', '220 metres (722\\xa0ft)\\n', '67\\n', '2021\\n', 'Residential\\n', '[76][77]', 'Oberoi Sky City Tower B\\n', '\\xa0\\n', 'Oberoi Sky City Tower C\\n', '\\xa0\\n', 'Oberoi Sky City Tower D\\n', '\\xa0\\n', 'Oberoi Sky City Tower E\\n', '\\xa0\\n', '43\\n', 'Omkar Alta Monte Tower B\\n', '\\n', 'Mumbai\\n', '218 metres (715\\xa0ft)\\n', '65\\n', '2019\\n', 'Residential\\n', '[78][79][80]', '44\\n', 'Century Mills Tower\\n', '\\n', 'Mumbai\\n', '215.5 metres (707\\xa0ft)\\n', '51\\n', '2014\\n', 'Commercial\\n', '[81][82]', '45\\n', 'Raheja Imperia\\n', '\\n', 'Mumbai\\n', '214 metres (702\\xa0ft)\\n', '52\\n', '2020\\n', 'Residential\\n', '[83][84]', '46\\n', 'Lodha Venezia A\\n', '\\n', 'Mumbai\\n', '213.5 metres (700\\xa0ft)\\n', '68\\n', '2017\\n', 'Residential\\n', '[85][86][87][88]', 'Lodha Venezia B\\n', '\\n', '2021\\n', '48\\n', 'Monte South Tower 1\\n', '\\n', 'Mumbai\\n', '210 metres (689\\xa0ft)\\n', '60\\n', '2022\\n', 'Residential\\n', '[89][90]', '49\\n', 'Orchid Enclave\\n', '\\xa0\\n', 'Mumbai\\n', '210 metres (689\\xa0ft)\\n', '56\\n', '2017\\n', 'Residential\\n', '[91][92]', '50\\n', 'Orbit Terraces\\n', '\\n', 'Mumbai\\n', '207 metres (679\\xa0ft)\\n', '61\\n', '2021\\n', 'Residential\\n', '[93]', '51\\n', 'Crescent Bay Tower 4\\n', '\\n', 'Mumbai\\n', '206 metres (676\\xa0ft)\\n', '58\\n', '2019\\n', 'Residential\\n', '[94][95][57]', '52\\n', 'Kohinoor Square Tower A\\n', '\\xa0\\n', 'Mumbai\\n', '201.9 metres (662\\xa0ft)\\n', '50\\n', '2019\\n', 'Commercial\\n', '[96][97]', '53\\n', 'Celestia Spaces Tower A\\n', '\\n', 'Mumbai\\n', '201 metres (659\\xa0ft)\\n', '59\\n', '2022\\n', 'Residential\\n', '[98]', 'Celestia Spaces Tower B\\n', '\\n', '55\\n', 'Oberoi Enigma Tower 1\\n', '\\n', 'Mumbai\\n', '201 metres (659\\xa0ft)\\n', '58\\n', '2023\\n', 'Residential\\n', '[99]', 'Oberoi Enigma Tower 2\\n', '\\n', '57\\n', 'Kalpataru Avana\\n', '\\xa0\\n', 'Mumbai\\n', '201 metres (659\\xa0ft)\\n', '52\\n', '2019\\n', 'Residential\\n', '[100][101]', '58\\n', 'Crescent Bay Tower 3\\n', '\\n', 'Mumbai\\n', '200 metres (656\\xa0ft)\\n', '56\\n', '2022\\n', 'Residential\\n', '[102]', '59\\n', 'Trump Tower Delhi NCR Tower 1\\n', '\\n', 'Gurugram\\n', '200 metres (656\\xa0ft)\\n', '47\\n', '2024\\n', 'Commercial\\n', '[103][104]', 'Trump Tower Delhi NCR Tower 2\\n', '\\n', '61\\n', 'One ICC\\n', '\\xa0\\n', 'Mumbai\\n', '197.6 metres (648\\xa0ft)\\n', '61\\n', '2018\\n', 'Residential\\n', '[105][106]', '62\\n', 'Omkar Alta Monte Tower C\\n', '\\n', 'Mumbai\\n', '197 metres (646\\xa0ft)\\n', '58\\n', '2017\\n', 'Residential\\n', '[107]', '63\\n', 'SD Alpine A\\n', '\\xa0\\n', 'Mumbai\\n', '196.5 metres (645\\xa0ft)\\n', '63\\n', '2019[108]', 'Residential\\n', '[109][108]', 'SD Alpine B\\n', '\\xa0\\n', '65\\n', 'Indiabulls Sky\\n', '\\xa0\\n', 'Mumbai\\n', '196 metres (643\\xa0ft)\\n', '48\\n', '2016\\n', 'Residential\\n', '[110][111]', '66\\n', 'Raheja Revanta\\n', '\\n', 'Gurugram\\n', '195 metres (640\\xa0ft)\\n', '61\\n', '2020\\n', 'Residential\\n', '[112][113][114]', '67\\n', 'Raheja Tower\\n', '\\n', 'Mumbai\\n', '195 metres (640\\xa0ft)\\n', '48\\n', '2022\\n', 'Residential\\n', '[115]', '68\\n', 'Lodha Altamount\\n', '\\xa0\\n', 'Mumbai\\n', '195 metres (640\\xa0ft)\\n', '43\\n', '2018\\n', 'Residential\\n', '[116][117]', '69\\n', 'Ariisto Sommet\\n', '\\n', 'Mumbai\\n', '194 metres (636\\xa0ft)\\n', '50\\n', '2018\\n', 'Residential\\n', '[118]', '70\\n', 'Raheja Vivarea 1\\n', '\\n', 'Mumbai\\n', '193.8 metres (636\\xa0ft)\\n', '42\\n', '2012\\n', 'Residential\\n', '[119]', 'Raheja Vivarea 2\\n', '\\n', 'Raheja Vivarea 3\\n', '\\n', 'Raheja Vivarea 4\\n', '\\n', '2018\\n', '74\\n', 'Orchid Woods 1\\n', '\\xa0\\n', 'Mumbai\\n', '193 metres (633\\xa0ft)\\n', '58\\n', '2012\\n', 'Residential\\n', '[120][121]', 'Orchid Woods 2\\n', '\\xa0\\n', 'Orchid Woods 3\\n', '\\xa0\\n', '77\\n', 'Ashok Towers D\\n', '\\xa0\\n', 'Mumbai\\n', '193 metres (633\\xa0ft)\\n', '49\\n', '2009\\n', 'Residential\\n', '[122][123][124]', '78\\n', 'Piramal Aranya Avyan\\n', '\\n', 'Mumbai\\n', '192.9 metres (633\\xa0ft)\\n', '52\\n', '2022\\n', 'Residential\\n', '[125]', '79\\n', 'The Ruby\\n', '\\xa0\\n', 'Mumbai\\n', '191 metres (627\\xa0ft)\\n', '40\\n', '2011\\n', 'Commercial\\n', '[126][127]', '80\\n', 'Lodha Primero\\n', '\\xa0\\n', 'Mumbai\\n', '190 metres (623\\xa0ft)\\n', '52\\n', '2014\\n', 'Residential\\n', '[128][129][130]', '81\\n', 'Runwal Bliss 3\\n', '\\n', 'Mumbai\\n', '190 metres (623\\xa0ft)\\n', '52\\n', '2022\\n', 'Residential\\n', '[131][132][133]', 'Runwal Bliss 4\\n', '\\n', 'Runwal Bliss 5\\n', '\\n', '84\\n', 'Dhaval Sunrise\\n', '\\n', 'Mumbai\\n', '190 meters (623\\xa0ft)\\n', '40\\n', '2022\\n', 'Residential\\n']\n"
          ]
        }
      ]
    },
    {
      "cell_type": "code",
      "source": [
        "rows"
      ],
      "metadata": {
        "id": "SVYc3sKt3Kma"
      },
      "execution_count": null,
      "outputs": []
    },
    {
      "cell_type": "code",
      "source": [
        "data=l[0:8]\n",
        "print(data)"
      ],
      "metadata": {
        "colab": {
          "base_uri": "https://localhost:8080/"
        },
        "id": "JulyJ3yY0gpi",
        "outputId": "fe5d6791-a80b-4382-903e-f3f4bd28ac4e"
      },
      "execution_count": null,
      "outputs": [
        {
          "output_type": "stream",
          "name": "stdout",
          "text": [
            "['Rank\\n\\nName\\n\\nImage\\n\\nCity\\n\\nHeight\\n\\nFloors\\n\\nYear\\n\\nBuilding type\\n\\nReference(s)\\n', '1\\n\\nPalais Royale\\n\\n\\xa0\\n\\nMumbai\\n\\n320 metres (1,050\\xa0ft)\\n\\n88\\n\\n2018\\n\\nResidential\\n\\n[22]', '2\\n\\nLokhandwala Minerva\\n\\n\\xa0\\n\\nMumbai\\n\\n301 metres (988\\xa0ft)\\n\\n78\\n\\n2023\\n\\nResidential\\n\\n[23][24]', '3\\n\\nPiramal Aranya Arav\\n\\n\\n\\nMumbai\\n\\n282.2 metres (926\\xa0ft)\\n\\n83\\n\\n2022\\n\\nResidential\\n\\n[25]', '4\\n\\nWorld One\\n\\n\\xa0\\n\\nMumbai\\n\\n280.2 metres (919\\xa0ft)\\n\\n76\\n\\n2020\\n\\nResidential\\n\\n[4][26]', '5\\n\\nWorld View\\n\\n\\xa0\\n\\nMumbai\\n\\n277.6 metres (911\\xa0ft)\\n\\n73\\n\\n2020\\n\\nResidential\\n\\n[27][28]', '6\\n\\nLodha Trump Tower\\n\\n\\xa0\\n\\nMumbai\\n\\n268 metres (879\\xa0ft)\\n\\n76\\n\\n2020\\n\\nResidential\\n\\n[29][30][31]', 'Lodha Marquise\\n\\n\\xa0\\n']\n"
          ]
        }
      ]
    },
    {
      "cell_type": "code",
      "source": [
        "st=0\n",
        "sp=9\n",
        "for i in range(len(l)//9):\n",
        "  mydf.loc[i]=l[st:sp]\n",
        "  st+=9\n",
        "  sp+=9\n",
        "mydf\n"
      ],
      "metadata": {
        "colab": {
          "base_uri": "https://localhost:8080/",
          "height": 790
        },
        "id": "xJ5o2qy81N3A",
        "outputId": "85f30192-ac1b-4daa-bda2-219084c5ae36"
      },
      "execution_count": null,
      "outputs": [
        {
          "output_type": "execute_result",
          "data": {
            "text/plain": [
              "           Rank\\n                 Name\\n           Image\\n  \\\n",
              "0             1\\n        Palais Royale\\n                \\n   \n",
              "1             2\\n  Lokhandwala Minerva\\n                \\n   \n",
              "2             3\\n  Piramal Aranya Arav\\n                \\n   \n",
              "3             4\\n            World One\\n                \\n   \n",
              "4             5\\n           World View\\n                \\n   \n",
              "..            ...                    ...               ...   \n",
              "57  Residential\\n        [122][123][124]              78\\n   \n",
              "58  Residential\\n                  [125]              79\\n   \n",
              "59   Commercial\\n             [126][127]              80\\n   \n",
              "60  Residential\\n        [128][129][130]              81\\n   \n",
              "61  Residential\\n        [131][132][133]  Runwal Bliss 4\\n   \n",
              "\n",
              "                    City\\n                 Height\\n  Floors\\n  \\\n",
              "0                 Mumbai\\n  320 metres (1,050 ft)\\n      88\\n   \n",
              "1                 Mumbai\\n    301 metres (988 ft)\\n      78\\n   \n",
              "2                 Mumbai\\n  282.2 metres (926 ft)\\n      83\\n   \n",
              "3                 Mumbai\\n  280.2 metres (919 ft)\\n      76\\n   \n",
              "4                 Mumbai\\n  277.6 metres (911 ft)\\n      73\\n   \n",
              "..                     ...                      ...       ...   \n",
              "57  Piramal Aranya Avyan\\n                       \\n  Mumbai\\n   \n",
              "58              The Ruby\\n                       \\n  Mumbai\\n   \n",
              "59         Lodha Primero\\n                       \\n  Mumbai\\n   \n",
              "60        Runwal Bliss 3\\n                       \\n  Mumbai\\n   \n",
              "61                      \\n         Runwal Bliss 5\\n        \\n   \n",
              "\n",
              "                     Year\\n   Building type\\n Reference(s)\\n  \n",
              "0                    2018\\n     Residential\\n           [22]  \n",
              "1                    2023\\n     Residential\\n       [23][24]  \n",
              "2                    2022\\n     Residential\\n           [25]  \n",
              "3                    2020\\n     Residential\\n        [4][26]  \n",
              "4                    2020\\n     Residential\\n       [27][28]  \n",
              "..                      ...               ...            ...  \n",
              "57  192.9 metres (633 ft)\\n              52\\n         2022\\n  \n",
              "58    191 metres (627 ft)\\n              40\\n         2011\\n  \n",
              "59    190 metres (623 ft)\\n              52\\n         2014\\n  \n",
              "60    190 metres (623 ft)\\n              52\\n         2022\\n  \n",
              "61                     84\\n  Dhaval Sunrise\\n             \\n  \n",
              "\n",
              "[62 rows x 9 columns]"
            ],
            "text/html": [
              "\n",
              "  <div id=\"df-43a38ddb-3a3f-49b3-abdc-ee0ea37d724a\" class=\"colab-df-container\">\n",
              "    <div>\n",
              "<style scoped>\n",
              "    .dataframe tbody tr th:only-of-type {\n",
              "        vertical-align: middle;\n",
              "    }\n",
              "\n",
              "    .dataframe tbody tr th {\n",
              "        vertical-align: top;\n",
              "    }\n",
              "\n",
              "    .dataframe thead th {\n",
              "        text-align: right;\n",
              "    }\n",
              "</style>\n",
              "<table border=\"1\" class=\"dataframe\">\n",
              "  <thead>\n",
              "    <tr style=\"text-align: right;\">\n",
              "      <th></th>\n",
              "      <th>Rank\\n</th>\n",
              "      <th>Name\\n</th>\n",
              "      <th>Image\\n</th>\n",
              "      <th>City\\n</th>\n",
              "      <th>Height\\n</th>\n",
              "      <th>Floors\\n</th>\n",
              "      <th>Year\\n</th>\n",
              "      <th>Building type\\n</th>\n",
              "      <th>Reference(s)\\n</th>\n",
              "    </tr>\n",
              "  </thead>\n",
              "  <tbody>\n",
              "    <tr>\n",
              "      <th>0</th>\n",
              "      <td>1\\n</td>\n",
              "      <td>Palais Royale\\n</td>\n",
              "      <td>\\n</td>\n",
              "      <td>Mumbai\\n</td>\n",
              "      <td>320 metres (1,050 ft)\\n</td>\n",
              "      <td>88\\n</td>\n",
              "      <td>2018\\n</td>\n",
              "      <td>Residential\\n</td>\n",
              "      <td>[22]</td>\n",
              "    </tr>\n",
              "    <tr>\n",
              "      <th>1</th>\n",
              "      <td>2\\n</td>\n",
              "      <td>Lokhandwala Minerva\\n</td>\n",
              "      <td>\\n</td>\n",
              "      <td>Mumbai\\n</td>\n",
              "      <td>301 metres (988 ft)\\n</td>\n",
              "      <td>78\\n</td>\n",
              "      <td>2023\\n</td>\n",
              "      <td>Residential\\n</td>\n",
              "      <td>[23][24]</td>\n",
              "    </tr>\n",
              "    <tr>\n",
              "      <th>2</th>\n",
              "      <td>3\\n</td>\n",
              "      <td>Piramal Aranya Arav\\n</td>\n",
              "      <td>\\n</td>\n",
              "      <td>Mumbai\\n</td>\n",
              "      <td>282.2 metres (926 ft)\\n</td>\n",
              "      <td>83\\n</td>\n",
              "      <td>2022\\n</td>\n",
              "      <td>Residential\\n</td>\n",
              "      <td>[25]</td>\n",
              "    </tr>\n",
              "    <tr>\n",
              "      <th>3</th>\n",
              "      <td>4\\n</td>\n",
              "      <td>World One\\n</td>\n",
              "      <td>\\n</td>\n",
              "      <td>Mumbai\\n</td>\n",
              "      <td>280.2 metres (919 ft)\\n</td>\n",
              "      <td>76\\n</td>\n",
              "      <td>2020\\n</td>\n",
              "      <td>Residential\\n</td>\n",
              "      <td>[4][26]</td>\n",
              "    </tr>\n",
              "    <tr>\n",
              "      <th>4</th>\n",
              "      <td>5\\n</td>\n",
              "      <td>World View\\n</td>\n",
              "      <td>\\n</td>\n",
              "      <td>Mumbai\\n</td>\n",
              "      <td>277.6 metres (911 ft)\\n</td>\n",
              "      <td>73\\n</td>\n",
              "      <td>2020\\n</td>\n",
              "      <td>Residential\\n</td>\n",
              "      <td>[27][28]</td>\n",
              "    </tr>\n",
              "    <tr>\n",
              "      <th>...</th>\n",
              "      <td>...</td>\n",
              "      <td>...</td>\n",
              "      <td>...</td>\n",
              "      <td>...</td>\n",
              "      <td>...</td>\n",
              "      <td>...</td>\n",
              "      <td>...</td>\n",
              "      <td>...</td>\n",
              "      <td>...</td>\n",
              "    </tr>\n",
              "    <tr>\n",
              "      <th>57</th>\n",
              "      <td>Residential\\n</td>\n",
              "      <td>[122][123][124]</td>\n",
              "      <td>78\\n</td>\n",
              "      <td>Piramal Aranya Avyan\\n</td>\n",
              "      <td>\\n</td>\n",
              "      <td>Mumbai\\n</td>\n",
              "      <td>192.9 metres (633 ft)\\n</td>\n",
              "      <td>52\\n</td>\n",
              "      <td>2022\\n</td>\n",
              "    </tr>\n",
              "    <tr>\n",
              "      <th>58</th>\n",
              "      <td>Residential\\n</td>\n",
              "      <td>[125]</td>\n",
              "      <td>79\\n</td>\n",
              "      <td>The Ruby\\n</td>\n",
              "      <td>\\n</td>\n",
              "      <td>Mumbai\\n</td>\n",
              "      <td>191 metres (627 ft)\\n</td>\n",
              "      <td>40\\n</td>\n",
              "      <td>2011\\n</td>\n",
              "    </tr>\n",
              "    <tr>\n",
              "      <th>59</th>\n",
              "      <td>Commercial\\n</td>\n",
              "      <td>[126][127]</td>\n",
              "      <td>80\\n</td>\n",
              "      <td>Lodha Primero\\n</td>\n",
              "      <td>\\n</td>\n",
              "      <td>Mumbai\\n</td>\n",
              "      <td>190 metres (623 ft)\\n</td>\n",
              "      <td>52\\n</td>\n",
              "      <td>2014\\n</td>\n",
              "    </tr>\n",
              "    <tr>\n",
              "      <th>60</th>\n",
              "      <td>Residential\\n</td>\n",
              "      <td>[128][129][130]</td>\n",
              "      <td>81\\n</td>\n",
              "      <td>Runwal Bliss 3\\n</td>\n",
              "      <td>\\n</td>\n",
              "      <td>Mumbai\\n</td>\n",
              "      <td>190 metres (623 ft)\\n</td>\n",
              "      <td>52\\n</td>\n",
              "      <td>2022\\n</td>\n",
              "    </tr>\n",
              "    <tr>\n",
              "      <th>61</th>\n",
              "      <td>Residential\\n</td>\n",
              "      <td>[131][132][133]</td>\n",
              "      <td>Runwal Bliss 4\\n</td>\n",
              "      <td>\\n</td>\n",
              "      <td>Runwal Bliss 5\\n</td>\n",
              "      <td>\\n</td>\n",
              "      <td>84\\n</td>\n",
              "      <td>Dhaval Sunrise\\n</td>\n",
              "      <td>\\n</td>\n",
              "    </tr>\n",
              "  </tbody>\n",
              "</table>\n",
              "<p>62 rows × 9 columns</p>\n",
              "</div>\n",
              "    <div class=\"colab-df-buttons\">\n",
              "\n",
              "  <div class=\"colab-df-container\">\n",
              "    <button class=\"colab-df-convert\" onclick=\"convertToInteractive('df-43a38ddb-3a3f-49b3-abdc-ee0ea37d724a')\"\n",
              "            title=\"Convert this dataframe to an interactive table.\"\n",
              "            style=\"display:none;\">\n",
              "\n",
              "  <svg xmlns=\"http://www.w3.org/2000/svg\" height=\"24px\" viewBox=\"0 -960 960 960\">\n",
              "    <path d=\"M120-120v-720h720v720H120Zm60-500h600v-160H180v160Zm220 220h160v-160H400v160Zm0 220h160v-160H400v160ZM180-400h160v-160H180v160Zm440 0h160v-160H620v160ZM180-180h160v-160H180v160Zm440 0h160v-160H620v160Z\"/>\n",
              "  </svg>\n",
              "    </button>\n",
              "\n",
              "  <style>\n",
              "    .colab-df-container {\n",
              "      display:flex;\n",
              "      gap: 12px;\n",
              "    }\n",
              "\n",
              "    .colab-df-convert {\n",
              "      background-color: #E8F0FE;\n",
              "      border: none;\n",
              "      border-radius: 50%;\n",
              "      cursor: pointer;\n",
              "      display: none;\n",
              "      fill: #1967D2;\n",
              "      height: 32px;\n",
              "      padding: 0 0 0 0;\n",
              "      width: 32px;\n",
              "    }\n",
              "\n",
              "    .colab-df-convert:hover {\n",
              "      background-color: #E2EBFA;\n",
              "      box-shadow: 0px 1px 2px rgba(60, 64, 67, 0.3), 0px 1px 3px 1px rgba(60, 64, 67, 0.15);\n",
              "      fill: #174EA6;\n",
              "    }\n",
              "\n",
              "    .colab-df-buttons div {\n",
              "      margin-bottom: 4px;\n",
              "    }\n",
              "\n",
              "    [theme=dark] .colab-df-convert {\n",
              "      background-color: #3B4455;\n",
              "      fill: #D2E3FC;\n",
              "    }\n",
              "\n",
              "    [theme=dark] .colab-df-convert:hover {\n",
              "      background-color: #434B5C;\n",
              "      box-shadow: 0px 1px 3px 1px rgba(0, 0, 0, 0.15);\n",
              "      filter: drop-shadow(0px 1px 2px rgba(0, 0, 0, 0.3));\n",
              "      fill: #FFFFFF;\n",
              "    }\n",
              "  </style>\n",
              "\n",
              "    <script>\n",
              "      const buttonEl =\n",
              "        document.querySelector('#df-43a38ddb-3a3f-49b3-abdc-ee0ea37d724a button.colab-df-convert');\n",
              "      buttonEl.style.display =\n",
              "        google.colab.kernel.accessAllowed ? 'block' : 'none';\n",
              "\n",
              "      async function convertToInteractive(key) {\n",
              "        const element = document.querySelector('#df-43a38ddb-3a3f-49b3-abdc-ee0ea37d724a');\n",
              "        const dataTable =\n",
              "          await google.colab.kernel.invokeFunction('convertToInteractive',\n",
              "                                                    [key], {});\n",
              "        if (!dataTable) return;\n",
              "\n",
              "        const docLinkHtml = 'Like what you see? Visit the ' +\n",
              "          '<a target=\"_blank\" href=https://colab.research.google.com/notebooks/data_table.ipynb>data table notebook</a>'\n",
              "          + ' to learn more about interactive tables.';\n",
              "        element.innerHTML = '';\n",
              "        dataTable['output_type'] = 'display_data';\n",
              "        await google.colab.output.renderOutput(dataTable, element);\n",
              "        const docLink = document.createElement('div');\n",
              "        docLink.innerHTML = docLinkHtml;\n",
              "        element.appendChild(docLink);\n",
              "      }\n",
              "    </script>\n",
              "  </div>\n",
              "\n",
              "\n",
              "<div id=\"df-78089f45-cd3b-412c-a28b-f1a930fbf875\">\n",
              "  <button class=\"colab-df-quickchart\" onclick=\"quickchart('df-78089f45-cd3b-412c-a28b-f1a930fbf875')\"\n",
              "            title=\"Suggest charts\"\n",
              "            style=\"display:none;\">\n",
              "\n",
              "<svg xmlns=\"http://www.w3.org/2000/svg\" height=\"24px\"viewBox=\"0 0 24 24\"\n",
              "     width=\"24px\">\n",
              "    <g>\n",
              "        <path d=\"M19 3H5c-1.1 0-2 .9-2 2v14c0 1.1.9 2 2 2h14c1.1 0 2-.9 2-2V5c0-1.1-.9-2-2-2zM9 17H7v-7h2v7zm4 0h-2V7h2v10zm4 0h-2v-4h2v4z\"/>\n",
              "    </g>\n",
              "</svg>\n",
              "  </button>\n",
              "\n",
              "<style>\n",
              "  .colab-df-quickchart {\n",
              "      --bg-color: #E8F0FE;\n",
              "      --fill-color: #1967D2;\n",
              "      --hover-bg-color: #E2EBFA;\n",
              "      --hover-fill-color: #174EA6;\n",
              "      --disabled-fill-color: #AAA;\n",
              "      --disabled-bg-color: #DDD;\n",
              "  }\n",
              "\n",
              "  [theme=dark] .colab-df-quickchart {\n",
              "      --bg-color: #3B4455;\n",
              "      --fill-color: #D2E3FC;\n",
              "      --hover-bg-color: #434B5C;\n",
              "      --hover-fill-color: #FFFFFF;\n",
              "      --disabled-bg-color: #3B4455;\n",
              "      --disabled-fill-color: #666;\n",
              "  }\n",
              "\n",
              "  .colab-df-quickchart {\n",
              "    background-color: var(--bg-color);\n",
              "    border: none;\n",
              "    border-radius: 50%;\n",
              "    cursor: pointer;\n",
              "    display: none;\n",
              "    fill: var(--fill-color);\n",
              "    height: 32px;\n",
              "    padding: 0;\n",
              "    width: 32px;\n",
              "  }\n",
              "\n",
              "  .colab-df-quickchart:hover {\n",
              "    background-color: var(--hover-bg-color);\n",
              "    box-shadow: 0 1px 2px rgba(60, 64, 67, 0.3), 0 1px 3px 1px rgba(60, 64, 67, 0.15);\n",
              "    fill: var(--button-hover-fill-color);\n",
              "  }\n",
              "\n",
              "  .colab-df-quickchart-complete:disabled,\n",
              "  .colab-df-quickchart-complete:disabled:hover {\n",
              "    background-color: var(--disabled-bg-color);\n",
              "    fill: var(--disabled-fill-color);\n",
              "    box-shadow: none;\n",
              "  }\n",
              "\n",
              "  .colab-df-spinner {\n",
              "    border: 2px solid var(--fill-color);\n",
              "    border-color: transparent;\n",
              "    border-bottom-color: var(--fill-color);\n",
              "    animation:\n",
              "      spin 1s steps(1) infinite;\n",
              "  }\n",
              "\n",
              "  @keyframes spin {\n",
              "    0% {\n",
              "      border-color: transparent;\n",
              "      border-bottom-color: var(--fill-color);\n",
              "      border-left-color: var(--fill-color);\n",
              "    }\n",
              "    20% {\n",
              "      border-color: transparent;\n",
              "      border-left-color: var(--fill-color);\n",
              "      border-top-color: var(--fill-color);\n",
              "    }\n",
              "    30% {\n",
              "      border-color: transparent;\n",
              "      border-left-color: var(--fill-color);\n",
              "      border-top-color: var(--fill-color);\n",
              "      border-right-color: var(--fill-color);\n",
              "    }\n",
              "    40% {\n",
              "      border-color: transparent;\n",
              "      border-right-color: var(--fill-color);\n",
              "      border-top-color: var(--fill-color);\n",
              "    }\n",
              "    60% {\n",
              "      border-color: transparent;\n",
              "      border-right-color: var(--fill-color);\n",
              "    }\n",
              "    80% {\n",
              "      border-color: transparent;\n",
              "      border-right-color: var(--fill-color);\n",
              "      border-bottom-color: var(--fill-color);\n",
              "    }\n",
              "    90% {\n",
              "      border-color: transparent;\n",
              "      border-bottom-color: var(--fill-color);\n",
              "    }\n",
              "  }\n",
              "</style>\n",
              "\n",
              "  <script>\n",
              "    async function quickchart(key) {\n",
              "      const quickchartButtonEl =\n",
              "        document.querySelector('#' + key + ' button');\n",
              "      quickchartButtonEl.disabled = true;  // To prevent multiple clicks.\n",
              "      quickchartButtonEl.classList.add('colab-df-spinner');\n",
              "      try {\n",
              "        const charts = await google.colab.kernel.invokeFunction(\n",
              "            'suggestCharts', [key], {});\n",
              "      } catch (error) {\n",
              "        console.error('Error during call to suggestCharts:', error);\n",
              "      }\n",
              "      quickchartButtonEl.classList.remove('colab-df-spinner');\n",
              "      quickchartButtonEl.classList.add('colab-df-quickchart-complete');\n",
              "    }\n",
              "    (() => {\n",
              "      let quickchartButtonEl =\n",
              "        document.querySelector('#df-78089f45-cd3b-412c-a28b-f1a930fbf875 button');\n",
              "      quickchartButtonEl.style.display =\n",
              "        google.colab.kernel.accessAllowed ? 'block' : 'none';\n",
              "    })();\n",
              "  </script>\n",
              "</div>\n",
              "\n",
              "  <div id=\"id_9c2ec94f-4695-4f5b-ae45-2bdae44d7ef2\">\n",
              "    <style>\n",
              "      .colab-df-generate {\n",
              "        background-color: #E8F0FE;\n",
              "        border: none;\n",
              "        border-radius: 50%;\n",
              "        cursor: pointer;\n",
              "        display: none;\n",
              "        fill: #1967D2;\n",
              "        height: 32px;\n",
              "        padding: 0 0 0 0;\n",
              "        width: 32px;\n",
              "      }\n",
              "\n",
              "      .colab-df-generate:hover {\n",
              "        background-color: #E2EBFA;\n",
              "        box-shadow: 0px 1px 2px rgba(60, 64, 67, 0.3), 0px 1px 3px 1px rgba(60, 64, 67, 0.15);\n",
              "        fill: #174EA6;\n",
              "      }\n",
              "\n",
              "      [theme=dark] .colab-df-generate {\n",
              "        background-color: #3B4455;\n",
              "        fill: #D2E3FC;\n",
              "      }\n",
              "\n",
              "      [theme=dark] .colab-df-generate:hover {\n",
              "        background-color: #434B5C;\n",
              "        box-shadow: 0px 1px 3px 1px rgba(0, 0, 0, 0.15);\n",
              "        filter: drop-shadow(0px 1px 2px rgba(0, 0, 0, 0.3));\n",
              "        fill: #FFFFFF;\n",
              "      }\n",
              "    </style>\n",
              "    <button class=\"colab-df-generate\" onclick=\"generateWithVariable('mydf')\"\n",
              "            title=\"Generate code using this dataframe.\"\n",
              "            style=\"display:none;\">\n",
              "\n",
              "  <svg xmlns=\"http://www.w3.org/2000/svg\" height=\"24px\"viewBox=\"0 0 24 24\"\n",
              "       width=\"24px\">\n",
              "    <path d=\"M7,19H8.4L18.45,9,17,7.55,7,17.6ZM5,21V16.75L18.45,3.32a2,2,0,0,1,2.83,0l1.4,1.43a1.91,1.91,0,0,1,.58,1.4,1.91,1.91,0,0,1-.58,1.4L9.25,21ZM18.45,9,17,7.55Zm-12,3A5.31,5.31,0,0,0,4.9,8.1,5.31,5.31,0,0,0,1,6.5,5.31,5.31,0,0,0,4.9,4.9,5.31,5.31,0,0,0,6.5,1,5.31,5.31,0,0,0,8.1,4.9,5.31,5.31,0,0,0,12,6.5,5.46,5.46,0,0,0,6.5,12Z\"/>\n",
              "  </svg>\n",
              "    </button>\n",
              "    <script>\n",
              "      (() => {\n",
              "      const buttonEl =\n",
              "        document.querySelector('#id_9c2ec94f-4695-4f5b-ae45-2bdae44d7ef2 button.colab-df-generate');\n",
              "      buttonEl.style.display =\n",
              "        google.colab.kernel.accessAllowed ? 'block' : 'none';\n",
              "\n",
              "      buttonEl.onclick = () => {\n",
              "        google.colab.notebook.generateWithVariable('mydf');\n",
              "      }\n",
              "      })();\n",
              "    </script>\n",
              "  </div>\n",
              "\n",
              "    </div>\n",
              "  </div>\n"
            ],
            "application/vnd.google.colaboratory.intrinsic+json": {
              "type": "dataframe",
              "variable_name": "mydf",
              "summary": "{\n  \"name\": \"mydf\",\n  \"rows\": 62,\n  \"fields\": [\n    {\n      \"column\": \"Rank\\n\",\n      \"properties\": {\n        \"dtype\": \"string\",\n        \"num_unique_values\": 44,\n        \"samples\": [\n          \"67\\n\",\n          \"\\n\",\n          \"2021\\n\"\n        ],\n        \"semantic_type\": \"\",\n        \"description\": \"\"\n      }\n    },\n    {\n      \"column\": \"Name\\n\",\n      \"properties\": {\n        \"dtype\": \"string\",\n        \"num_unique_values\": 46,\n        \"samples\": [\n          \"Raheja Vivarea 1\\n\",\n          \"Mumbai\\n\",\n          \"48\\n\"\n        ],\n        \"semantic_type\": \"\",\n        \"description\": \"\"\n      }\n    },\n    {\n      \"column\": \"Image\\n\",\n      \"properties\": {\n        \"dtype\": \"string\",\n        \"num_unique_values\": 44,\n        \"samples\": [\n          \"193 metres (633\\u00a0ft)\\n\",\n          \"213.5 metres (700\\u00a0ft)\\n\",\n          \"Monte South Tower 1\\n\"\n        ],\n        \"semantic_type\": \"\",\n        \"description\": \"\"\n      }\n    },\n    {\n      \"column\": \"City\\n\",\n      \"properties\": {\n        \"dtype\": \"string\",\n        \"num_unique_values\": 31,\n        \"samples\": [\n          \"Piramal Aranya Avyan\\n\",\n          \"Oberoi Sky City Tower D\\n\",\n          \"58\\n\"\n        ],\n        \"semantic_type\": \"\",\n        \"description\": \"\"\n      }\n    },\n    {\n      \"column\": \"Height\\n\",\n      \"properties\": {\n        \"dtype\": \"string\",\n        \"num_unique_values\": 40,\n        \"samples\": [\n          \"Indiabulls Sky Forest Tower 2\\n\",\n          \"[58][59][60]\",\n          \"[56][57]\"\n        ],\n        \"semantic_type\": \"\",\n        \"description\": \"\"\n      }\n    },\n    {\n      \"column\": \"Floors\\n\",\n      \"properties\": {\n        \"dtype\": \"string\",\n        \"num_unique_values\": 42,\n        \"samples\": [\n          \"Oberoi Sky City Tower E\\n\",\n          \"23\\n\",\n          \"260 metres (853\\u00a0ft)\\n\"\n        ],\n        \"semantic_type\": \"\",\n        \"description\": \"\"\n      }\n    },\n    {\n      \"column\": \"Year\\n\",\n      \"properties\": {\n        \"dtype\": \"string\",\n        \"num_unique_values\": 49,\n        \"samples\": [\n          \"Four Seasons Private Residences\\n\",\n          \"192.9 metres (633\\u00a0ft)\\n\",\n          \"190 metres (623\\u00a0ft)\\n\"\n        ],\n        \"semantic_type\": \"\",\n        \"description\": \"\"\n      }\n    },\n    {\n      \"column\": \"Building type\\n\",\n      \"properties\": {\n        \"dtype\": \"string\",\n        \"num_unique_values\": 36,\n        \"samples\": [\n          \"Dhaval Sunrise\\n\",\n          \"Two ICC\\n\",\n          \"61\\n\"\n        ],\n        \"semantic_type\": \"\",\n        \"description\": \"\"\n      }\n    },\n    {\n      \"column\": \"Reference(s)\\n\",\n      \"properties\": {\n        \"dtype\": \"string\",\n        \"num_unique_values\": 40,\n        \"samples\": [\n          \"Oberoi Sky City Tower B\\n\",\n          \"\\n\",\n          \"\\u00a0\\n\"\n        ],\n        \"semantic_type\": \"\",\n        \"description\": \"\"\n      }\n    }\n  ]\n}"
            }
          },
          "metadata": {},
          "execution_count": 58
        }
      ]
    },
    {
      "cell_type": "code",
      "source": [
        "mydf.to_csv(\"building.csv\")"
      ],
      "metadata": {
        "id": "8XwkCykJ6J0A"
      },
      "execution_count": null,
      "outputs": []
    }
  ]
}